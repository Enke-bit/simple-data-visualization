{
 "cells": [
  {
   "cell_type": "code",
   "execution_count": 1,
   "id": "458d2e7b",
   "metadata": {},
   "outputs": [],
   "source": [
    "import requests # requests ktüpanesini import ediyorum."
   ]
  },
  {
   "cell_type": "code",
   "execution_count": 2,
   "id": "423b91c0",
   "metadata": {},
   "outputs": [],
   "source": [
    "from PIL import Image # bu verileri görselleştirmeye ihtiyaç duyuyorum.\n",
    "from io import BytesIO # byte tipi değişken üzerine çelılşaçağım için başka bir pakate daha ihtiyacım var."
   ]
  },
  {
   "cell_type": "markdown",
   "id": "b62ac385",
   "metadata": {},
   "source": [
    "# Radar Chart"
   ]
  },
  {
   "cell_type": "code",
   "execution_count": 3,
   "id": "cb9d5e68",
   "metadata": {},
   "outputs": [],
   "source": [
    "grafik_URL = 'https://image-charts.com/chart'\n",
    "\n",
    "payload = {\n",
    "   'chco': '3092de', # color kodu\n",
    "   'chd': 't:67,81,69,73,40,73,67', # girilen değerler\n",
    "   'chl': 'hiz|sut|pas|top_surus|defens|fizik',\n",
    "   'chdl': 'Mauro Emanuel Icardi Rivero', # label anlamına geliyor.\n",
    "   'chdlp': 'b',\n",
    "   'chs': '650x650', # canvas büyüklüğü\n",
    "   'cht': 'r', # chart grafik tipi ne olacak \"radial\"\n",
    "   'chtt' : 'Futbolcu özeliği', # titlr başlık anlamına geliyor.\n",
    "   'chxl' : '0:|0|20|40|60|80|100', # grafikdedi dağılım gösterim aralığı\n",
    "   'chxt' : 'x',\n",
    "   'chm' : 'B,AAAAAABB,0,0,0' # kulanılan renk kodu.\n",
    "    \n",
    "}\n",
    "\n",
    "response_1 = requests.post(grafik_URL, data=payload)\n",
    "image = Image.open(BytesIO(response_1.content))\n",
    "image.show()"
   ]
  }
 ],
 "metadata": {
  "kernelspec": {
   "display_name": "Python 3 (ipykernel)",
   "language": "python",
   "name": "python3"
  },
  "language_info": {
   "codemirror_mode": {
    "name": "ipython",
    "version": 3
   },
   "file_extension": ".py",
   "mimetype": "text/x-python",
   "name": "python",
   "nbconvert_exporter": "python",
   "pygments_lexer": "ipython3",
   "version": "3.11.5"
  }
 },
 "nbformat": 4,
 "nbformat_minor": 5
}
